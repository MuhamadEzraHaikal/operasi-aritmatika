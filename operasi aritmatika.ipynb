{
 "cells": [
  {
   "cell_type": "markdown",
   "id": "30fdb2e7",
   "metadata": {},
   "source": [
    "<H1>OPERASI ARITMATIKA</H1>"
   ]
  },
  {
   "cell_type": "code",
   "execution_count": 19,
   "id": "971b2dbe",
   "metadata": {},
   "outputs": [
    {
     "name": "stdout",
     "output_type": "stream",
     "text": [
      "13\n",
      "7\n",
      "30\n",
      "3.3333333333333335\n",
      "3\n",
      "1000\n",
      "1\n"
     ]
    }
   ],
   "source": [
    "num1 = 10\n",
    "num2 = 3\n",
    "\n",
    "jumlah = num1 + num2 \n",
    "kurang = num1 - num2\n",
    "kali = num1 * num2\n",
    "bagi = num1 / num2\n",
    "bagi_bulat = num1 // num2\n",
    "pangkat = num1 ** num2\n",
    "modulus = num1 % num2\n",
    "print (jumlah)\n",
    "print (kurang)\n",
    "print (kali)\n",
    "print (bagi)\n",
    "print (bagi_bulat)\n",
    "print (pangkat)\n",
    "print (modulus)"
   ]
  },
  {
   "cell_type": "code",
   "execution_count": 17,
   "id": "fe6f4d48",
   "metadata": {},
   "outputs": [
    {
     "name": "stdout",
     "output_type": "stream",
     "text": [
      "False\n",
      "True\n",
      "True\n",
      "False\n",
      "True\n",
      "False\n"
     ]
    }
   ],
   "source": [
    "bil1 = 8\n",
    "bil2 = 7\n",
    "\n",
    "is_equal = bil1 == bil2\n",
    "is_not_equal = bil1!=bil2\n",
    "is_greater_than = bil1 > bil2 \n",
    "is_less_than = bil1 < bil2\n",
    "is_greater_equal = bil1 >= bil2\n",
    "is_less_equal = bil1 <= bil2\n",
    "\n",
    "#print\n",
    "print(is_equal)\n",
    "print (is_not_equal)\n",
    "print (is_greater_than)\n",
    "print (is_less_than)\n",
    "print (is_greater_equal)\n",
    "print (is_less_equal)"
   ]
  },
  {
   "cell_type": "code",
   "execution_count": 20,
   "id": "73ddbfcf",
   "metadata": {},
   "outputs": [
    {
     "name": "stdout",
     "output_type": "stream",
     "text": [
      "True\n",
      "False\n",
      "True\n"
     ]
    }
   ],
   "source": [
    "var1 = 4\n",
    "var2 = 10\n",
    "\n",
    "opr_and = var1 < var2 and var1 <=4 #true\n",
    "opr_or = var1 >= var2 or var1 % 2==1 #false\n",
    "opr_not = not opr_or\n",
    "print (opr_and)\n",
    "print (opr_or)\n",
    "print (opr_not)"
   ]
  },
  {
   "cell_type": "code",
   "execution_count": 28,
   "id": "9ce10a75",
   "metadata": {},
   "outputs": [
    {
     "name": "stdout",
     "output_type": "stream",
     "text": [
      "True\n",
      "False\n",
      "False\n",
      "True\n",
      "True\n",
      "False\n"
     ]
    }
   ],
   "source": [
    "fruits = [\"apple,mangoes,watermelon\"]\n",
    "my_favorit_fruits = fruits\n",
    "your_fruit = [\"apple,mangoes,watermelon\"]\n",
    "\n",
    "print (fruits is my_favorit_fruits)\n",
    "print (fruits is your_fruit)\n",
    "print (fruits is not my_favorit_fruits)\n",
    "print (fruits is not your_fruit)\n",
    "\n",
    "\n",
    "a = 5 \n",
    "b = 5 #python menggunakan metode hasting dalam memberikan nilai variabel\n",
    "print (a is b)\n",
    "print (a is not b)"
   ]
  },
  {
   "cell_type": "code",
   "execution_count": 41,
   "id": "853a20c5",
   "metadata": {},
   "outputs": [
    {
     "name": "stdout",
     "output_type": "stream",
     "text": [
      "True\n",
      "False\n",
      "False\n",
      "True\n"
     ]
    }
   ],
   "source": [
    "student_names = [\"andi\",\"beni\",\"chika\"]\n",
    "print (\"beni\" in student_names)\n",
    "print (\"andi\" not in student_names)\n",
    "print (\"defi\" in student_names)\n",
    "print (\"defi\" not in student_names)"
   ]
  },
  {
   "cell_type": "code",
   "execution_count": 47,
   "id": "1daa3b3d",
   "metadata": {},
   "outputs": [
    {
     "name": "stdout",
     "output_type": "stream",
     "text": [
      "15\n",
      "255\n",
      "240\n"
     ]
    }
   ],
   "source": [
    "nilai_and = 255 & 15\n",
    "nilai_or = 255 | 15\n",
    "nilai_xor = 255 ^ 15\n",
    "# 11111111\n",
    "# 00001111\n",
    "# -------- xor\n",
    "# 11110000 => 16 + 32 + 64 + 128\n",
    "print(nilai_and)\n",
    "print(nilai_or)\n",
    "print(nilai_xor)"
   ]
  }
 ],
 "metadata": {
  "kernelspec": {
   "display_name": "Python 3 (ipykernel)",
   "language": "python",
   "name": "python3"
  },
  "language_info": {
   "codemirror_mode": {
    "name": "ipython",
    "version": 3
   },
   "file_extension": ".py",
   "mimetype": "text/x-python",
   "name": "python",
   "nbconvert_exporter": "python",
   "pygments_lexer": "ipython3",
   "version": "3.9.12"
  }
 },
 "nbformat": 4,
 "nbformat_minor": 5
}
